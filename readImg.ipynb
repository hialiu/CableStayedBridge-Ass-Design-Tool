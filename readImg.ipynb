{
 "cells": [
  {
   "cell_type": "code",
   "execution_count": 9,
   "metadata": {},
   "outputs": [],
   "source": [
    "import numpy as np\n",
    "from PIL import Image\n",
    "import os"
   ]
  },
  {
   "cell_type": "code",
   "execution_count": 10,
   "metadata": {},
   "outputs": [],
   "source": [
    "def imgTrans(imgPath, targetsize=500):\n",
    "    img = Image.open(imgPath)\n",
    "    IMG_SCALE = targetsize / max(img.size)\n",
    "    img = img.resize((int(img.size[0] * IMG_SCALE), int(img.size[1] * IMG_SCALE)))\n",
    "    if imgPath.endswith('png'):\n",
    "        img = img.convert('RGB')\n",
    "    else:\n",
    "        pass\n",
    "    return img"
   ]
  },
  {
   "cell_type": "code",
   "execution_count": 12,
   "metadata": {},
   "outputs": [],
   "source": [
    "imgPaths = os.listdir(\"./Bridge-Imgs\")\n",
    "for imgPath in imgPaths:\n",
    "    img = imgTrans(\"./Bridge-Imgs/\" + imgPath)\n",
    "    imgName = imgPath.split('.')[0]\n",
    "    img.save(\"./Bridge-Imgs-JPG/\" + imgName + \".jpg\")"
   ]
  },
  {
   "cell_type": "code",
   "execution_count": 42,
   "metadata": {},
   "outputs": [
    {
     "data": {
      "text/plain": [
       "'cb001-1'"
      ]
     },
     "execution_count": 42,
     "metadata": {},
     "output_type": "execute_result"
    }
   ],
   "source": [
    "imgPaths[0].split('.')[0]"
   ]
  },
  {
   "cell_type": "code",
   "execution_count": 7,
   "metadata": {},
   "outputs": [
    {
     "data": {
      "text/plain": [
       "'cb012-2.jpg'"
      ]
     },
     "execution_count": 7,
     "metadata": {},
     "output_type": "execute_result"
    }
   ],
   "source": [
    "imgPaths[35]"
   ]
  },
  {
   "cell_type": "code",
   "execution_count": null,
   "metadata": {},
   "outputs": [],
   "source": []
  }
 ],
 "metadata": {
  "interpreter": {
   "hash": "7e577cee74d227ae3029c5ba58fc1dac5f8a69561e05e67c434d279f5a5999be"
  },
  "kernelspec": {
   "display_name": "Python 3.9.7 64-bit ('cvenv': conda)",
   "language": "python",
   "name": "python3"
  },
  "language_info": {
   "codemirror_mode": {
    "name": "ipython",
    "version": 3
   },
   "file_extension": ".py",
   "mimetype": "text/x-python",
   "name": "python",
   "nbconvert_exporter": "python",
   "pygments_lexer": "ipython3",
   "version": "3.9.7"
  },
  "orig_nbformat": 4
 },
 "nbformat": 4,
 "nbformat_minor": 2
}
